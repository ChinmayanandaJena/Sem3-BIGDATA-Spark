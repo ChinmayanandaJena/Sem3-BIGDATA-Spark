{
 "cells": [
  {
   "cell_type": "code",
   "execution_count": 0,
   "metadata": {
    "application/vnd.databricks.v1+cell": {
     "cellMetadata": {
      "byteLimit": 2048000,
      "rowLimit": 10000
     },
     "inputWidgets": {},
     "nuid": "dfcb6c75-8af9-462c-8c30-9ca2cb62c3f0",
     "showTitle": false,
     "tableResultSettingsMap": {},
     "title": ""
    }
   },
   "outputs": [],
   "source": [
    "# Read and load the new data file into a dataframe\n",
    "newstrokeDF = spark.read.format('csv').option(\"inferSchema\", True).option(\"header\", True).option(\"sep\",',').load(\"/FileStore/tables/SparkMLib/newheartstroke.csv\")"
   ]
  },
  {
   "cell_type": "code",
   "execution_count": 0,
   "metadata": {
    "application/vnd.databricks.v1+cell": {
     "cellMetadata": {
      "byteLimit": 2048000,
      "rowLimit": 10000
     },
     "inputWidgets": {},
     "nuid": "1ada3050-642d-4968-b56a-8cde6f18a86a",
     "showTitle": false,
     "tableResultSettingsMap": {},
     "title": ""
    }
   },
   "outputs": [
    {
     "output_type": "stream",
     "name": "stdout",
     "output_type": "stream",
     "text": [
      "root\n |-- gender: string (nullable = true)\n |-- age: double (nullable = true)\n |-- diabetes: double (nullable = true)\n |-- hypertension: double (nullable = true)\n |-- heart_disease: string (nullable = true)\n |-- smoking_history: string (nullable = true)\n |-- BMI: double (nullable = true)\n\n+------+----+--------+------------+-------------+---------------+-----+\n|gender|age |diabetes|hypertension|heart_disease|smoking_history|BMI  |\n+------+----+--------+------------+-------------+---------------+-----+\n|Female|28.0|0.0     |0.0         |No           |never          |28.48|\n|Male  |5.0 |0.0     |0.0         |No           |never          |19.29|\n|Female|50.0|1.0     |0.0         |No           |never          |35.91|\n|Female|32.0|0.0     |0.0         |No           |never          |39.17|\n|Female|22.0|0.0     |0.0         |No           |former         |22.48|\n+------+----+--------+------------+-------------+---------------+-----+\nonly showing top 5 rows\n\n"
     ]
    }
   ],
   "source": [
    "# Check the schema and first few records\n",
    "newstrokeDF.printSchema()\n",
    "newstrokeDF.show(5, False)"
   ]
  },
  {
   "cell_type": "code",
   "execution_count": 0,
   "metadata": {
    "application/vnd.databricks.v1+cell": {
     "cellMetadata": {
      "byteLimit": 2048000,
      "rowLimit": 10000
     },
     "inputWidgets": {},
     "nuid": "04de888e-227a-4171-8e53-41fb645277db",
     "showTitle": false,
     "tableResultSettingsMap": {},
     "title": ""
    }
   },
   "outputs": [
    {
     "output_type": "display_data",
     "data": {
      "text/html": [
       "<style scoped>\n",
       "  .table-result-container {\n",
       "    max-height: 300px;\n",
       "    overflow: auto;\n",
       "  }\n",
       "  table, th, td {\n",
       "    border: 1px solid black;\n",
       "    border-collapse: collapse;\n",
       "  }\n",
       "  th, td {\n",
       "    padding: 5px;\n",
       "  }\n",
       "  th {\n",
       "    text-align: left;\n",
       "  }\n",
       "</style><div class='table-result-container'><table class='table-result'><thead style='background-color: white'><tr><th>gender</th><th>age</th><th>diabetes</th><th>hypertension</th><th>heart_disease</th><th>smoking_history</th><th>BMI</th></tr></thead><tbody><tr><td>Female</td><td>28.0</td><td>0.0</td><td>0.0</td><td>No</td><td>never</td><td>28.48</td></tr><tr><td>Male</td><td>5.0</td><td>0.0</td><td>0.0</td><td>No</td><td>never</td><td>19.29</td></tr><tr><td>Female</td><td>50.0</td><td>1.0</td><td>0.0</td><td>No</td><td>never</td><td>35.91</td></tr><tr><td>Female</td><td>32.0</td><td>0.0</td><td>0.0</td><td>No</td><td>never</td><td>39.17</td></tr><tr><td>Female</td><td>22.0</td><td>0.0</td><td>0.0</td><td>No</td><td>former</td><td>22.48</td></tr><tr><td>Female</td><td>43.0</td><td>0.0</td><td>0.0</td><td>No</td><td>current</td><td>23.79</td></tr><tr><td>Male</td><td>24.0</td><td>0.0</td><td>0.0</td><td>No</td><td>never</td><td>28.6</td></tr><tr><td>Female</td><td>67.0</td><td>1.0</td><td>0.0</td><td>Yes</td><td>former</td><td>32.31</td></tr><tr><td>Male</td><td>41.0</td><td>0.0</td><td>0.0</td><td>No</td><td>former</td><td>29.81</td></tr><tr><td>Female</td><td>52.0</td><td>0.0</td><td>0.0</td><td>No</td><td>never</td><td>23.63</td></tr><tr><td>Female</td><td>34.0</td><td>0.0</td><td>0.0</td><td>No</td><td>former</td><td>22.53</td></tr><tr><td>Male</td><td>31.0</td><td>0.0</td><td>0.0</td><td>No</td><td>never</td><td>28.34</td></tr><tr><td>Female</td><td>63.0</td><td>0.0</td><td>0.0</td><td>Yes</td><td>current</td><td>25.76</td></tr><tr><td>Female</td><td>43.0</td><td>0.0</td><td>0.0</td><td>No</td><td>former</td><td>27.44</td></tr></tbody></table></div>"
      ]
     },
     "metadata": {
      "application/vnd.databricks.v1+output": {
       "addedWidgets": {},
       "aggData": [],
       "aggError": "",
       "aggOverflow": false,
       "aggSchema": [],
       "aggSeriesLimitReached": false,
       "aggType": "",
       "arguments": {},
       "columnCustomDisplayInfos": {},
       "data": [
        [
         "Female",
         28.0,
         0.0,
         0.0,
         "No",
         "never",
         28.48
        ],
        [
         "Male",
         5.0,
         0.0,
         0.0,
         "No",
         "never",
         19.29
        ],
        [
         "Female",
         50.0,
         1.0,
         0.0,
         "No",
         "never",
         35.91
        ],
        [
         "Female",
         32.0,
         0.0,
         0.0,
         "No",
         "never",
         39.17
        ],
        [
         "Female",
         22.0,
         0.0,
         0.0,
         "No",
         "former",
         22.48
        ],
        [
         "Female",
         43.0,
         0.0,
         0.0,
         "No",
         "current",
         23.79
        ],
        [
         "Male",
         24.0,
         0.0,
         0.0,
         "No",
         "never",
         28.6
        ],
        [
         "Female",
         67.0,
         1.0,
         0.0,
         "Yes",
         "former",
         32.31
        ],
        [
         "Male",
         41.0,
         0.0,
         0.0,
         "No",
         "former",
         29.81
        ],
        [
         "Female",
         52.0,
         0.0,
         0.0,
         "No",
         "never",
         23.63
        ],
        [
         "Female",
         34.0,
         0.0,
         0.0,
         "No",
         "former",
         22.53
        ],
        [
         "Male",
         31.0,
         0.0,
         0.0,
         "No",
         "never",
         28.34
        ],
        [
         "Female",
         63.0,
         0.0,
         0.0,
         "Yes",
         "current",
         25.76
        ],
        [
         "Female",
         43.0,
         0.0,
         0.0,
         "No",
         "former",
         27.44
        ]
       ],
       "datasetInfos": [],
       "dbfsResultPath": null,
       "isJsonSchema": true,
       "metadata": {},
       "overflow": false,
       "plotOptions": {
        "customPlotOptions": {},
        "displayType": "table",
        "pivotAggregation": null,
        "pivotColumns": null,
        "xColumns": null,
        "yColumns": null
       },
       "removedWidgets": [],
       "schema": [
        {
         "metadata": "{}",
         "name": "gender",
         "type": "\"string\""
        },
        {
         "metadata": "{}",
         "name": "age",
         "type": "\"double\""
        },
        {
         "metadata": "{}",
         "name": "diabetes",
         "type": "\"double\""
        },
        {
         "metadata": "{}",
         "name": "hypertension",
         "type": "\"double\""
        },
        {
         "metadata": "{}",
         "name": "heart_disease",
         "type": "\"string\""
        },
        {
         "metadata": "{}",
         "name": "smoking_history",
         "type": "\"string\""
        },
        {
         "metadata": "{}",
         "name": "BMI",
         "type": "\"double\""
        }
       ],
       "type": "table"
      }
     },
     "output_type": "display_data"
    }
   ],
   "source": [
    "# Note you can use display funciton only in Databricks which displays records in a tabular form\n",
    "display(newstrokeDF)"
   ]
  },
  {
   "cell_type": "code",
   "execution_count": 0,
   "metadata": {
    "application/vnd.databricks.v1+cell": {
     "cellMetadata": {
      "byteLimit": 2048000,
      "rowLimit": 10000
     },
     "inputWidgets": {},
     "nuid": "e7da67df-58fd-4cdd-aa43-c1fd1cebd4ed",
     "showTitle": false,
     "tableResultSettingsMap": {},
     "title": ""
    }
   },
   "outputs": [
    {
     "output_type": "stream",
     "name": "stdout",
     "output_type": "stream",
     "text": [
      "Out[4]: 14"
     ]
    }
   ],
   "source": [
    "# Check the count\n",
    "newstrokeDF.count()"
   ]
  },
  {
   "cell_type": "code",
   "execution_count": 0,
   "metadata": {
    "application/vnd.databricks.v1+cell": {
     "cellMetadata": {
      "byteLimit": 2048000,
      "rowLimit": 10000
     },
     "inputWidgets": {},
     "nuid": "4ab1ab4c-a827-440d-9fa3-fdf418b8ac29",
     "showTitle": false,
     "tableResultSettingsMap": {},
     "title": ""
    }
   },
   "outputs": [
    {
     "output_type": "stream",
     "name": "stdout",
     "output_type": "stream",
     "text": [
      "+-------+------+------------------+-------------------+------------+-------------+---------------+-----------------+\n|summary|gender|               age|           diabetes|hypertension|heart_disease|smoking_history|              BMI|\n+-------+------+------------------+-------------------+------------+-------------+---------------+-----------------+\n|  count|    14|                14|                 14|          14|           14|             14|               14|\n|   mean|  null|38.214285714285715|0.14285714285714285|         0.0|         null|           null|27.68142857142857|\n| stddev|  null|16.655692357632205|0.36313651960128146|         0.0|         null|           null|5.455286578022428|\n|    min|Female|               5.0|                0.0|         0.0|           No|        current|            19.29|\n|    max|  Male|              67.0|                1.0|         0.0|          Yes|          never|            39.17|\n+-------+------+------------------+-------------------+------------+-------------+---------------+-----------------+\n\n"
     ]
    }
   ],
   "source": [
    "# Get a summary description of the dataframe\n",
    "newstrokeDF.describe().show()"
   ]
  },
  {
   "cell_type": "code",
   "execution_count": 0,
   "metadata": {
    "application/vnd.databricks.v1+cell": {
     "cellMetadata": {
      "byteLimit": 2048000,
      "rowLimit": 10000
     },
     "inputWidgets": {},
     "nuid": "dc852842-d8e3-4f54-9e10-0fc3f2ad6fe7",
     "showTitle": false,
     "tableResultSettingsMap": {},
     "title": ""
    }
   },
   "outputs": [],
   "source": [
    "# There are no records with any column as null\n",
    "# If so we will have to drop those records\n",
    "# Now we can load the model and apply it on this new data"
   ]
  },
  {
   "cell_type": "code",
   "execution_count": 0,
   "metadata": {
    "application/vnd.databricks.v1+cell": {
     "cellMetadata": {
      "byteLimit": 2048000,
      "rowLimit": 10000
     },
     "inputWidgets": {},
     "nuid": "b12f9901-45a0-4d86-a4fb-4675935aa637",
     "showTitle": false,
     "tableResultSettingsMap": {},
     "title": ""
    }
   },
   "outputs": [],
   "source": [
    "# ##### Loading pipeline model\n",
    "\n",
    "# import PipelineModel from pyspark.ml package\n",
    "from pyspark.ml import PipelineModel\n",
    "\n",
    "# load the model from the location it is stored\n",
    "# Let us call the loaded model as pipelinemodel\n",
    "pipelinemodel = PipelineModel.load(\"/FileStore/tables/SparkMLib/dtcpipelinemodel\")"
   ]
  },
  {
   "cell_type": "code",
   "execution_count": 0,
   "metadata": {
    "application/vnd.databricks.v1+cell": {
     "cellMetadata": {
      "byteLimit": 2048000,
      "rowLimit": 10000
     },
     "inputWidgets": {},
     "nuid": "102f897c-c258-4e43-b751-86a9eac1f8f5",
     "showTitle": false,
     "tableResultSettingsMap": {},
     "title": ""
    }
   },
   "outputs": [],
   "source": [
    "# use the PipelineModel object to perform prediciton on the new data. \n",
    "# Use .transform() to perfrom prediction\n",
    "prediction = pipelinemodel.transform(newstrokeDF)"
   ]
  },
  {
   "cell_type": "code",
   "execution_count": 0,
   "metadata": {
    "application/vnd.databricks.v1+cell": {
     "cellMetadata": {
      "byteLimit": 2048000,
      "rowLimit": 10000
     },
     "inputWidgets": {},
     "nuid": "303ac6e7-4c38-41fd-bf88-8002471d8c6b",
     "showTitle": false,
     "tableResultSettingsMap": {},
     "title": ""
    }
   },
   "outputs": [
    {
     "output_type": "stream",
     "name": "stdout",
     "output_type": "stream",
     "text": [
      "root\n |-- gender: string (nullable = true)\n |-- age: double (nullable = true)\n |-- diabetes: double (nullable = true)\n |-- hypertension: double (nullable = true)\n |-- heart_disease: string (nullable = true)\n |-- smoking_history: string (nullable = true)\n |-- BMI: double (nullable = true)\n |-- BodyType: double (nullable = true)\n |-- ageGroup: double (nullable = true)\n |-- gender_indexed: double (nullable = false)\n |-- heart_disease_indexed: double (nullable = false)\n |-- smoking_history_indexed: double (nullable = false)\n |-- features: vector (nullable = true)\n |-- rawPrediction: vector (nullable = true)\n |-- probability: vector (nullable = true)\n |-- prediction: double (nullable = false)\n\n"
     ]
    }
   ],
   "source": [
    "prediction.printSchema()"
   ]
  },
  {
   "cell_type": "code",
   "execution_count": 0,
   "metadata": {
    "application/vnd.databricks.v1+cell": {
     "cellMetadata": {
      "byteLimit": 2048000,
      "rowLimit": 10000
     },
     "inputWidgets": {},
     "nuid": "8d1c8474-9099-4626-8262-0003dcc1605e",
     "showTitle": false,
     "tableResultSettingsMap": {},
     "title": ""
    }
   },
   "outputs": [],
   "source": [
    "# As we see the the newstroke dataframe is transformed by the pipelinemodel. Hence\n",
    "# binarizer added BodyType column\n",
    "# bucketizer added ageGroup column\n",
    "# stringindexers added the respective indexes\n",
    "# vectorassembler added the vector column with the features\n",
    "# Finally dtc added the rawPrediction, probability and prediction columns"
   ]
  },
  {
   "cell_type": "code",
   "execution_count": 0,
   "metadata": {
    "application/vnd.databricks.v1+cell": {
     "cellMetadata": {
      "byteLimit": 2048000,
      "rowLimit": 10000
     },
     "inputWidgets": {},
     "nuid": "0d87a465-9939-4124-8a4b-fd3faea8e590",
     "showTitle": false,
     "tableResultSettingsMap": {},
     "title": ""
    }
   },
   "outputs": [
    {
     "output_type": "stream",
     "name": "stdout",
     "output_type": "stream",
     "text": [
      "+------+----+--------+------------+-------------+---------------+-----+--------+--------+--------------+---------------------+-----------------------+-------------------------+---------------+-----------------------------------------+----------+\n|gender|age |diabetes|hypertension|heart_disease|smoking_history|BMI  |BodyType|ageGroup|gender_indexed|heart_disease_indexed|smoking_history_indexed|features                 |rawPrediction  |probability                              |prediction|\n+------+----+--------+------------+-------------+---------------+-----+--------+--------+--------------+---------------------+-----------------------+-------------------------+---------------+-----------------------------------------+----------+\n|Female|28.0|0.0     |0.0         |No           |never          |28.48|0.0     |1.0     |0.0           |0.0                  |0.0                    |(7,[3],[1.0])            |[19717.0,53.0] |[0.9973191704602934,0.002680829539706626]|0.0       |\n|Male  |5.0 |0.0     |0.0         |No           |never          |19.29|0.0     |0.0     |1.0           |0.0                  |0.0                    |(7,[4],[1.0])            |[19717.0,53.0] |[0.9973191704602934,0.002680829539706626]|0.0       |\n|Female|50.0|1.0     |0.0         |No           |never          |35.91|1.0     |2.0     |0.0           |0.0                  |0.0                    |(7,[0,2,3],[1.0,1.0,2.0])|[13020.0,303.0]|[0.9772573744652105,0.02274262553478946] |0.0       |\n|Female|32.0|0.0     |0.0         |No           |never          |39.17|1.0     |1.0     |0.0           |0.0                  |0.0                    |(7,[2,3],[1.0,1.0])      |[19717.0,53.0] |[0.9973191704602934,0.002680829539706626]|0.0       |\n|Female|22.0|0.0     |0.0         |No           |former         |22.48|0.0     |0.0     |0.0           |0.0                  |1.0                    |(7,[6],[1.0])            |[19717.0,53.0] |[0.9973191704602934,0.002680829539706626]|0.0       |\n+------+----+--------+------------+-------------+---------------+-----+--------+--------+--------------+---------------------+-----------------------+-------------------------+---------------+-----------------------------------------+----------+\nonly showing top 5 rows\n\n"
     ]
    }
   ],
   "source": [
    "prediction.show(5, False)"
   ]
  },
  {
   "cell_type": "code",
   "execution_count": 0,
   "metadata": {
    "application/vnd.databricks.v1+cell": {
     "cellMetadata": {
      "byteLimit": 2048000,
      "rowLimit": 10000
     },
     "inputWidgets": {},
     "nuid": "7a3e4728-151b-4d13-8684-fbf5c5d18a53",
     "showTitle": false,
     "tableResultSettingsMap": {},
     "title": ""
    }
   },
   "outputs": [
    {
     "output_type": "stream",
     "name": "stdout",
     "output_type": "stream",
     "text": [
      "+---------------+-----------------------------------------+----------+\n|rawPrediction  |probability                              |prediction|\n+---------------+-----------------------------------------+----------+\n|[19717.0,53.0] |[0.9973191704602934,0.002680829539706626]|0.0       |\n|[19717.0,53.0] |[0.9973191704602934,0.002680829539706626]|0.0       |\n|[13020.0,303.0]|[0.9772573744652105,0.02274262553478946] |0.0       |\n|[19717.0,53.0] |[0.9973191704602934,0.002680829539706626]|0.0       |\n|[19717.0,53.0] |[0.9973191704602934,0.002680829539706626]|0.0       |\n|[19717.0,53.0] |[0.9973191704602934,0.002680829539706626]|0.0       |\n|[19717.0,53.0] |[0.9973191704602934,0.002680829539706626]|0.0       |\n|[13020.0,303.0]|[0.9772573744652105,0.02274262553478946] |0.0       |\n|[19717.0,53.0] |[0.9973191704602934,0.002680829539706626]|0.0       |\n|[13020.0,303.0]|[0.9772573744652105,0.02274262553478946] |0.0       |\n|[19717.0,53.0] |[0.9973191704602934,0.002680829539706626]|0.0       |\n|[19717.0,53.0] |[0.9973191704602934,0.002680829539706626]|0.0       |\n|[13020.0,303.0]|[0.9772573744652105,0.02274262553478946] |0.0       |\n|[19717.0,53.0] |[0.9973191704602934,0.002680829539706626]|0.0       |\n+---------------+-----------------------------------------+----------+\n\n"
     ]
    }
   ],
   "source": [
    "# print the results\n",
    "prediction.select('rawPrediction', 'probability', 'prediction').show(truncate=False)"
   ]
  },
  {
   "cell_type": "code",
   "execution_count": 0,
   "metadata": {
    "application/vnd.databricks.v1+cell": {
     "cellMetadata": {
      "byteLimit": 2048000,
      "rowLimit": 10000
     },
     "inputWidgets": {},
     "nuid": "be71e897-e213-4406-a1a4-190214ffef93",
     "showTitle": false,
     "tableResultSettingsMap": {},
     "title": ""
    }
   },
   "outputs": [
    {
     "output_type": "stream",
     "name": "stdout",
     "output_type": "stream",
     "text": [
      "+---------------+-----------------------------------------+----------+\n|rawPrediction  |probability                              |prediction|\n+---------------+-----------------------------------------+----------+\n|[19717.0,53.0] |[0.9973191704602934,0.002680829539706626]|0.0       |\n|[19717.0,53.0] |[0.9973191704602934,0.002680829539706626]|0.0       |\n|[13020.0,303.0]|[0.9772573744652105,0.02274262553478946] |0.0       |\n|[19717.0,53.0] |[0.9973191704602934,0.002680829539706626]|0.0       |\n|[19717.0,53.0] |[0.9973191704602934,0.002680829539706626]|0.0       |\n|[19717.0,53.0] |[0.9973191704602934,0.002680829539706626]|0.0       |\n|[19717.0,53.0] |[0.9973191704602934,0.002680829539706626]|0.0       |\n|[13020.0,303.0]|[0.9772573744652105,0.02274262553478946] |0.0       |\n|[19717.0,53.0] |[0.9973191704602934,0.002680829539706626]|0.0       |\n|[13020.0,303.0]|[0.9772573744652105,0.02274262553478946] |0.0       |\n|[19717.0,53.0] |[0.9973191704602934,0.002680829539706626]|0.0       |\n|[19717.0,53.0] |[0.9973191704602934,0.002680829539706626]|0.0       |\n|[13020.0,303.0]|[0.9772573744652105,0.02274262553478946] |0.0       |\n|[19717.0,53.0] |[0.9973191704602934,0.002680829539706626]|0.0       |\n+---------------+-----------------------------------------+----------+\n\n"
     ]
    }
   ],
   "source": [
    "display(prediction.select('rawPrediction', 'probability', 'prediction').show(truncate=False))"
   ]
  }
 ],
 "metadata": {
  "application/vnd.databricks.v1+notebook": {
   "computePreferences": null,
   "dashboards": [],
   "environmentMetadata": null,
   "language": "python",
   "notebookMetadata": {
    "pythonIndentUnit": 4
   },
   "notebookName": "LoadAndApplyDTCPipelineModel",
   "widgets": {}
  }
 },
 "nbformat": 4,
 "nbformat_minor": 0
}
